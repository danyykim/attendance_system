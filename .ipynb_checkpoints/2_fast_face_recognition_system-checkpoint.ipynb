{
 "cells": [
  {
   "cell_type": "code",
   "execution_count": 7,
   "id": "2b226ac8-17f3-462e-9d30-437c849b3efd",
   "metadata": {},
   "outputs": [],
   "source": [
    "import numpy as np\n",
    "import cv2\n",
    "import os\n",
    "import pandas as pd"
   ]
  },
  {
   "cell_type": "code",
   "execution_count": 8,
   "id": "02238dd0-cbb8-4b67-a0d1-1f1909819c5f",
   "metadata": {},
   "outputs": [],
   "source": [
    "import insightface"
   ]
  },
  {
   "cell_type": "code",
   "execution_count": 9,
   "id": "d33f0dfe-3cfb-4905-9770-ae86d5cff870",
   "metadata": {},
   "outputs": [],
   "source": [
    "from insightface.app import FaceAnalysis"
   ]
  },
  {
   "cell_type": "code",
   "execution_count": 10,
   "id": "898c5c3d-b6fd-44f3-a8f3-d25f87ec0653",
   "metadata": {},
   "outputs": [
    {
     "name": "stdout",
     "output_type": "stream",
     "text": [
      "Applied providers: ['CPUExecutionProvider'], with options: {'CPUExecutionProvider': {}}\n",
      "find model: insightface_model\\models\\buffalo_sc\\det_500m.onnx detection [1, 3, '?', '?'] 127.5 128.0\n",
      "Applied providers: ['CPUExecutionProvider'], with options: {'CPUExecutionProvider': {}}\n",
      "find model: insightface_model\\models\\buffalo_sc\\w600k_mbf.onnx recognition ['None', 3, 112, 112] 127.5 127.5\n",
      "set det-size: (640, 640)\n"
     ]
    }
   ],
   "source": [
    "faceapp = FaceAnalysis(name='buffalo_sc',\n",
    "                       root='insightface_model', \n",
    "                       providers = ['CPUExecutionProvider'])\n",
    "\n",
    "faceapp.prepare(ctx_id = 0, det_size=(640,640), det_thresh = 0.5)"
   ]
  },
  {
   "cell_type": "code",
   "execution_count": null,
   "id": "7942e4c5-9928-44c7-93d5-2c20432c5971",
   "metadata": {},
   "outputs": [],
   "source": [
    "listdir = os.listdir(path='images')\n",
    "for folder\n"
   ]
  }
 ],
 "metadata": {
  "kernelspec": {
   "display_name": "Python 3 (ipykernel)",
   "language": "python",
   "name": "python3"
  },
  "language_info": {
   "codemirror_mode": {
    "name": "ipython",
    "version": 3
   },
   "file_extension": ".py",
   "mimetype": "text/x-python",
   "name": "python",
   "nbconvert_exporter": "python",
   "pygments_lexer": "ipython3",
   "version": "3.10.9"
  }
 },
 "nbformat": 4,
 "nbformat_minor": 5
}
